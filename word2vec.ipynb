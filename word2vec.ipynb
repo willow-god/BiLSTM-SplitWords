{
 "cells": [
  {
   "cell_type": "code",
   "execution_count": 1,
   "metadata": {},
   "outputs": [],
   "source": [
    "import word2vec"
   ]
  },
  {
   "cell_type": "code",
   "execution_count": 2,
   "metadata": {},
   "outputs": [
    {
     "name": "stdout",
     "output_type": "stream",
     "text": [
      "Running command: word2phrase -train data/text8 -output data/text8-phrases -min-count 5 -threshold 100 -debug 2\n",
      "Starting training using file data/text8\n",
      "Words processed: 17000K     Vocab size: 4399K  \n",
      "Vocab size (unigrams + bigrams): 2419827\n",
      "Words in train file: 17005206\n",
      "Words written: 17000K\r"
     ]
    }
   ],
   "source": [
    "word2vec.word2phrase('data/text8','data/text8-phrases', verbose=True)"
   ]
  },
  {
   "cell_type": "code",
   "execution_count": 3,
   "metadata": {},
   "outputs": [
    {
     "name": "stdout",
     "output_type": "stream",
     "text": [
      "Running command: word2vec -train ./data/text8-phrases -output ./data/text8.bin -size 100 -window 5 -sample 1e-3 -hs 0 -negative 5 -threads 12 -iter 5 -min-count 5 -alpha 0.025 -debug 2 -binary 1 -cbow 1\n"
     ]
    },
    {
     "name": "stdout",
     "output_type": "stream",
     "text": [
      "Starting training using file ./data/text8-phrases\n",
      "Vocab size: 98331\n",
      "Words in train file: 15857306\n",
      "Alpha: 0.000136  Progress: 99.52%  Words/thread/sec: 2706.48k  "
     ]
    }
   ],
   "source": [
    "# 训练模型\n",
    "word2vec.word2vec('./data/text8-phrases', './data/text8.bin', size=100, binary=True, verbose=True)"
   ]
  },
  {
   "cell_type": "code",
   "execution_count": 4,
   "metadata": {},
   "outputs": [
    {
     "name": "stdout",
     "output_type": "stream",
     "text": [
      "Running command: word2vec -train ./data/text8 -output ./data/text8-clusters.txt -size 100 -window 5 -sample 1e-3 -hs 0 -negative 5 -threads 12 -iter 5 -min-count 5 -alpha 0.025 -debug 2 -binary 0 -cbow 1 -classes 100\n",
      "Starting training using file ./data/text8\n",
      "Vocab size: 71291\n",
      "Words in train file: 16718843\n",
      "Alpha: 0.000129  Progress: 99.55%  Words/thread/sec: 3077.49k  "
     ]
    }
   ],
   "source": [
    "# 词聚类\n",
    "word2vec.word2clusters('./data/text8', './data/text8-clusters.txt', 100, verbose=True)"
   ]
  },
  {
   "cell_type": "code",
   "execution_count": 5,
   "metadata": {},
   "outputs": [],
   "source": [
    "model = word2vec.load('./data/text8.bin')"
   ]
  },
  {
   "cell_type": "code",
   "execution_count": 6,
   "metadata": {},
   "outputs": [
    {
     "data": {
      "text/plain": [
       "array(['</s>', 'the', 'of', ..., 'dupree', 'rauchbier', 'erythropoietin'],\n",
       "      dtype='<U78')"
      ]
     },
     "execution_count": 6,
     "metadata": {},
     "output_type": "execute_result"
    }
   ],
   "source": [
    "model.vocab"
   ]
  },
  {
   "cell_type": "code",
   "execution_count": 8,
   "metadata": {},
   "outputs": [
    {
     "data": {
      "text/plain": [
       "(98331, 100)"
      ]
     },
     "execution_count": 8,
     "metadata": {},
     "output_type": "execute_result"
    }
   ],
   "source": [
    "model.vectors.shape"
   ]
  },
  {
   "cell_type": "code",
   "execution_count": 9,
   "metadata": {},
   "outputs": [
    {
     "data": {
      "text/plain": [
       "array([[-1.62992463e-01, -1.23826399e-01, -1.12576246e-01, ...,\n",
       "         8.03418010e-02, -1.23457380e-01, -1.14610851e-01],\n",
       "       [ 8.68797600e-02, -5.85788339e-02,  1.94521766e-04, ...,\n",
       "        -1.98853388e-01, -7.87035823e-02, -3.72118205e-02],\n",
       "       [ 1.96976829e-02, -4.83595282e-02,  1.02361832e-02, ...,\n",
       "        -8.49392712e-02, -8.70502368e-02,  8.40070769e-02],\n",
       "       ...,\n",
       "       [ 1.06839724e-01, -6.59673810e-02, -1.04630642e-01, ...,\n",
       "        -4.00264747e-02, -1.23351276e-01, -2.09597517e-02],\n",
       "       [ 1.29091933e-01,  1.80771220e-02, -1.48756698e-01, ...,\n",
       "        -7.53878355e-02, -7.69339129e-03,  3.06365285e-02],\n",
       "       [ 2.50818767e-02, -3.16046067e-02, -9.48731750e-02, ...,\n",
       "        -8.36565346e-03, -1.21702403e-01,  1.54883310e-01]])"
      ]
     },
     "execution_count": 9,
     "metadata": {},
     "output_type": "execute_result"
    }
   ],
   "source": [
    "model.vectors"
   ]
  },
  {
   "cell_type": "code",
   "execution_count": 11,
   "metadata": {},
   "outputs": [
    {
     "data": {
      "text/plain": [
       "array([-0.10313832, -0.05474144,  0.04149973, -0.13697636,  0.04516907,\n",
       "       -0.00299924, -0.07261197, -0.19939499,  0.04183184,  0.06768411,\n",
       "        0.19279613, -0.0641963 ,  0.0417672 , -0.07274031,  0.08885609,\n",
       "       -0.05619314,  0.12806115, -0.09350048, -0.03279927, -0.1685546 ,\n",
       "       -0.17655863, -0.08619384, -0.14047745,  0.19827144, -0.07946957,\n",
       "       -0.01791898,  0.16632733, -0.09060618, -0.12236678, -0.05246628,\n",
       "       -0.02781055,  0.08970425,  0.16809906, -0.11249391, -0.00524074,\n",
       "        0.0679923 ,  0.11049289, -0.1570586 , -0.00953466, -0.02879899,\n",
       "        0.0108916 ,  0.04200696,  0.05552177, -0.1341736 , -0.18832988,\n",
       "       -0.01258641,  0.00556099, -0.05780432, -0.04676769, -0.00671625,\n",
       "       -0.12829497,  0.13105476,  0.14803076,  0.13491292,  0.00253959,\n",
       "       -0.00262189, -0.11860283, -0.17358208, -0.12816277, -0.08837636,\n",
       "        0.07362977, -0.09135596,  0.06279376,  0.02886558,  0.0520956 ,\n",
       "        0.09127745, -0.05482447,  0.0446841 ,  0.00090306, -0.04889863,\n",
       "        0.07188149, -0.11449318, -0.10531551,  0.04902259,  0.09203369,\n",
       "        0.14239793, -0.07423356, -0.01439495,  0.02779254, -0.10633807,\n",
       "        0.01202556,  0.1060018 , -0.12314251, -0.03876068,  0.04655707,\n",
       "        0.17983688, -0.07908627,  0.08829994, -0.10792575,  0.0480752 ,\n",
       "        0.07913362,  0.01979987,  0.10667416,  0.15043205,  0.01737526,\n",
       "       -0.0293215 ,  0.03504612,  0.22106242, -0.20867473,  0.02585196])"
      ]
     },
     "execution_count": 11,
     "metadata": {},
     "output_type": "execute_result"
    }
   ],
   "source": [
    "model[\"dog\"]"
   ]
  },
  {
   "cell_type": "code",
   "execution_count": null,
   "metadata": {},
   "outputs": [],
   "source": []
  }
 ],
 "metadata": {
  "kernelspec": {
   "display_name": "base",
   "language": "python",
   "name": "python3"
  },
  "language_info": {
   "codemirror_mode": {
    "name": "ipython",
    "version": 3
   },
   "file_extension": ".py",
   "mimetype": "text/x-python",
   "name": "python",
   "nbconvert_exporter": "python",
   "pygments_lexer": "ipython3",
   "version": "3.9.13"
  },
  "orig_nbformat": 4
 },
 "nbformat": 4,
 "nbformat_minor": 2
}
